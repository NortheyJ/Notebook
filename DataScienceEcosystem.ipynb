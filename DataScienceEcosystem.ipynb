{
 "cells": [
  {
   "cell_type": "markdown",
   "id": "106fc6d1-c536-4d39-92c4-71d22a845a97",
   "metadata": {},
   "source": [
    "# Data Science Tools and Ecosystem"
   ]
  },
  {
   "cell_type": "code",
   "execution_count": null,
   "id": "5b24f8ab-715b-4763-82f0-d831056d07ba",
   "metadata": {},
   "outputs": [],
   "source": [
    "# In this notebook, Data Science Tools and Ecosystems are summarized"
   ]
  },
  {
   "cell_type": "markdown",
   "id": "61a94e68-ce03-4987-babc-560eb75040ca",
   "metadata": {},
   "source": [
    "Some of the popular languages Data Scientists use are:\n",
    "1. SQL\n",
    "2. R\n",
    "3. Python"
   ]
  },
  {
   "cell_type": "markdown",
   "id": "bb572179-428e-447f-8613-74b2582bdb92",
   "metadata": {},
   "source": [
    "Some of the common libraries used by data scientists include:\n",
    "1. PyTorch\n",
    "2. TensorFlow\n",
    "3. NumPy"
   ]
  },
  {
   "cell_type": "markdown",
   "id": "19ca33e5-c7f1-4fcf-8774-beabd19d4924",
   "metadata": {},
   "source": [
    "|Data Science Tools|\n",
    "|-----|\n",
    "|Jupyter Notebooks|\n",
    "|PyCharm|\n",
    "|RStudio|"
   ]
  },
  {
   "cell_type": "markdown",
   "id": "a8898c43-15b7-4151-beaa-feb9e7e21413",
   "metadata": {},
   "source": [
    "### Below are a few examples of evaluating arithmetic expressions in Python\n"
   ]
  },
  {
   "cell_type": "code",
   "execution_count": 7,
   "id": "211a22ca-eb7a-405e-aaf0-d97b7564179d",
   "metadata": {},
   "outputs": [
    {
     "data": {
      "text/plain": [
       "17"
      ]
     },
     "execution_count": 7,
     "metadata": {},
     "output_type": "execute_result"
    }
   ],
   "source": [
    "# This is a simple arithmetic expression designed to multiply two integers then add\n",
    "(3*4)+5"
   ]
  },
  {
   "cell_type": "code",
   "execution_count": 8,
   "id": "7b652150-e612-42a4-86bb-18256525ef67",
   "metadata": {},
   "outputs": [],
   "source": [
    "# This will convert minutes to hours by dividing by 60\n",
    "minutes = 200 "
   ]
  },
  {
   "cell_type": "code",
   "execution_count": 9,
   "id": "bc87d6dc-8382-4337-ac2b-e22c8f8ed552",
   "metadata": {},
   "outputs": [
    {
     "name": "stdout",
     "output_type": "stream",
     "text": [
      "3.3333333333333335\n"
     ]
    }
   ],
   "source": [
    "hours = minutes / 60\n",
    "print(hours)"
   ]
  },
  {
   "cell_type": "markdown",
   "id": "68845a57-7bc4-4a28-b768-a6d14b1da681",
   "metadata": {},
   "source": [
    "**Objectives:**\n",
    "- List Data Science Languages\n",
    "- List Data Science Libraries\n",
    "- List Data Science Tools"
   ]
  },
  {
   "cell_type": "markdown",
   "id": "2e075186-bb21-4309-bc85-182cc582d35a",
   "metadata": {},
   "source": [
    "## Author\n",
    "Josiah"
   ]
  },
  {
   "cell_type": "code",
   "execution_count": null,
   "id": "5771248f-d9d9-44ef-bdd8-41293273c2dd",
   "metadata": {},
   "outputs": [],
   "source": []
  }
 ],
 "metadata": {
  "kernelspec": {
   "display_name": "Python 3 (ipykernel)",
   "language": "python",
   "name": "python3"
  },
  "language_info": {
   "codemirror_mode": {
    "name": "ipython",
    "version": 3
   },
   "file_extension": ".py",
   "mimetype": "text/x-python",
   "name": "python",
   "nbconvert_exporter": "python",
   "pygments_lexer": "ipython3",
   "version": "3.9.12"
  }
 },
 "nbformat": 4,
 "nbformat_minor": 5
}
